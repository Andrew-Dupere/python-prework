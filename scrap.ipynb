{
 "cells": [
  {
   "cell_type": "code",
   "execution_count": 1,
   "id": "37807d83",
   "metadata": {},
   "outputs": [],
   "source": [
    "def max_num_inlist(a_list):\n",
    "    current_max = a_list[0]\n",
    "    for element in a_list:\n",
    "        if element > current_max:\n",
    "            current_max = element\n",
    "    return(current_max)"
   ]
  },
  {
   "cell_type": "code",
   "execution_count": 3,
   "id": "b79a5f1b",
   "metadata": {},
   "outputs": [
    {
     "name": "stdout",
     "output_type": "stream",
     "text": [
      "[1, 2, 3, 4, 6, 8, 9, 12, 16, 18, 24, 32, 36, 48, 72, 96, 144, 288]\n"
     ]
    }
   ],
   "source": [
    "n=288\n",
    "\n",
    "blanklist = []\n",
    "\n",
    "\n",
    "for i in range(1,n+1):\n",
    "    if n % i ==0:\n",
    "        blanklist.append(i)\n",
    "        \n",
    "print(blanklist)\n",
    "        "
   ]
  },
  {
   "cell_type": "code",
   "execution_count": 5,
   "id": "b35cac4f",
   "metadata": {},
   "outputs": [
    {
     "name": "stdout",
     "output_type": "stream",
     "text": [
      "[1, 2, 3, 6, 373, 746, 1119, 2238]\n"
     ]
    }
   ],
   "source": [
    "hn=2238\n",
    "\n",
    "blanklist2 = []\n",
    "\n",
    "\n",
    "for i in range(1,hn+1):\n",
    "    if hn % i ==0:\n",
    "        blanklist2.append(i)\n",
    "        \n",
    "print(blanklist2)"
   ]
  },
  {
   "cell_type": "code",
   "execution_count": 11,
   "id": "1d458f6d",
   "metadata": {},
   "outputs": [
    {
     "name": "stdout",
     "output_type": "stream",
     "text": [
      "6\n"
     ]
    }
   ],
   "source": [
    "list3 = []\n",
    "\n",
    "for items in blanklist:\n",
    "    if items in blanklist2:\n",
    "        list3.append(items)\n",
    "print(max(list3))\n",
    "        "
   ]
  },
  {
   "cell_type": "code",
   "execution_count": 15,
   "id": "2450e983",
   "metadata": {},
   "outputs": [
    {
     "data": {
      "text/plain": [
       "65"
      ]
     },
     "execution_count": 15,
     "metadata": {},
     "output_type": "execute_result"
    }
   ],
   "source": [
    "ord('A')"
   ]
  },
  {
   "cell_type": "code",
   "execution_count": 18,
   "id": "a687ba99",
   "metadata": {},
   "outputs": [
    {
     "data": {
      "text/plain": [
       "1"
      ]
     },
     "execution_count": 18,
     "metadata": {},
     "output_type": "execute_result"
    }
   ],
   "source": [
    "import string\n",
    "string.ascii_lowercase.index('b')"
   ]
  },
  {
   "cell_type": "code",
   "execution_count": 21,
   "id": "802da3de",
   "metadata": {},
   "outputs": [
    {
     "name": "stdout",
     "output_type": "stream",
     "text": [
      "0\n",
      "1\n",
      "2\n",
      "4\n"
     ]
    }
   ],
   "source": [
    "n = 4\n",
    "\n",
    "for nums in range(0,(n//2)+1):\n",
    "    print(nums)\n",
    "    if nums**2 == n:\n",
    "        print(nums**2)"
   ]
  },
  {
   "cell_type": "code",
   "execution_count": 23,
   "id": "8bcb5862",
   "metadata": {},
   "outputs": [
    {
     "name": "stdout",
     "output_type": "stream",
     "text": [
      "True\n"
     ]
    }
   ],
   "source": [
    "for num in range(0,n+1):\n",
    "    if num**2 == n:\n",
    "        print('True')"
   ]
  },
  {
   "cell_type": "code",
   "execution_count": 44,
   "id": "1736424d",
   "metadata": {},
   "outputs": [
    {
     "name": "stdout",
     "output_type": "stream",
     "text": [
      "['a', 'e', 'e', 'e', 'e', 'h', 'h', 'r', 'r', 't', 'y']\n",
      "['a', 'e', 'h', 'r', 't', 'y']\n"
     ]
    }
   ],
   "source": [
    "thing1 = sorted(\"aretheyhere\")\n",
    "\n",
    "print(thing1)\n",
    "\n",
    "thing3 = (set(thing1))\n",
    "\n",
    "thing = (''.join(thing3))\n",
    "\n",
    "print(sorted(thing))\n",
    "\n"
   ]
  },
  {
   "cell_type": "code",
   "execution_count": 48,
   "id": "bb02c04d",
   "metadata": {},
   "outputs": [],
   "source": [
    "mylist = (list(\"camelCasing\"))"
   ]
  },
  {
   "cell_type": "code",
   "execution_count": 53,
   "id": "faac01f2",
   "metadata": {},
   "outputs": [
    {
     "ename": "SyntaxError",
     "evalue": "unexpected EOF while parsing (2121866702.py, line 2)",
     "output_type": "error",
     "traceback": [
      "\u001b[1;36m  File \u001b[1;32m\"C:\\Users\\Andre\\AppData\\Local\\Temp\\ipykernel_25792\\2121866702.py\"\u001b[1;36m, line \u001b[1;32m2\u001b[0m\n\u001b[1;33m    print([idx for idx in range(len(mylist) if mylist[idx.isupper()]\u001b[0m\n\u001b[1;37m                                                                    ^\u001b[0m\n\u001b[1;31mSyntaxError\u001b[0m\u001b[1;31m:\u001b[0m unexpected EOF while parsing\n"
     ]
    }
   ],
   "source": [
    "for items in mylist:\n",
    "    print([idx for idx in range(len(mylist) if mylist[idx.isupper()]"
   ]
  },
  {
   "cell_type": "code",
   "execution_count": null,
   "id": "f3a3da6b",
   "metadata": {},
   "outputs": [],
   "source": [
    "breakCamelCase\n",
    "\n"
   ]
  }
 ],
 "metadata": {
  "kernelspec": {
   "display_name": "Python 3 (ipykernel)",
   "language": "python",
   "name": "python3"
  },
  "language_info": {
   "codemirror_mode": {
    "name": "ipython",
    "version": 3
   },
   "file_extension": ".py",
   "mimetype": "text/x-python",
   "name": "python",
   "nbconvert_exporter": "python",
   "pygments_lexer": "ipython3",
   "version": "3.9.13"
  }
 },
 "nbformat": 4,
 "nbformat_minor": 5
}
